{
  "nbformat": 4,
  "nbformat_minor": 0,
  "metadata": {
    "colab": {
      "name": "C9 Exercise.ipynb",
      "version": "0.3.2",
      "provenance": [],
      "include_colab_link": true
    },
    "kernelspec": {
      "name": "python3",
      "display_name": "Python 3"
    }
  },
  "cells": [
    {
      "cell_type": "markdown",
      "metadata": {
        "id": "view-in-github",
        "colab_type": "text"
      },
      "source": [
        "<a href=\"https://colab.research.google.com/github/nrkfeller/YCBS_notes/blob/master/C9_Exercise.ipynb\" target=\"_parent\"><img src=\"https://colab.research.google.com/assets/colab-badge.svg\" alt=\"Open In Colab\"/></a>"
      ]
    },
    {
      "cell_type": "markdown",
      "metadata": {
        "id": "I_Xu-H70v84-",
        "colab_type": "text"
      },
      "source": [
        "# Times Series Forecasting Exercise\n",
        "1. Choose a dataset\n",
        "2. Visualize the dataset\n",
        "3. Split data - Use the last 20% of values as test\n",
        "4. Use 4 model architectures that we demonstrated in class\n",
        "5. Explain which strategy was the best and why you think it was the best"
      ]
    },
    {
      "cell_type": "code",
      "metadata": {
        "id": "vg-ZOcvwv91a",
        "colab_type": "code",
        "colab": {}
      },
      "source": [
        "!wget https://storage.googleapis.com/nicksdemobucket/retail.csv"
      ],
      "execution_count": 0,
      "outputs": []
    },
    {
      "cell_type": "code",
      "metadata": {
        "id": "7JHOeiw4rBdF",
        "colab_type": "code",
        "colab": {}
      },
      "source": [
        "!wget https://storage.googleapis.com/nicksdemobucket/passenger.csv"
      ],
      "execution_count": 0,
      "outputs": []
    },
    {
      "cell_type": "code",
      "metadata": {
        "id": "gYixRFXyrDHs",
        "colab_type": "code",
        "colab": {}
      },
      "source": [
        "!wget https://storage.googleapis.com/nicksdemobucket/births.csv"
      ],
      "execution_count": 0,
      "outputs": []
    },
    {
      "cell_type": "code",
      "metadata": {
        "id": "5ROqNhf_vliW",
        "colab_type": "code",
        "colab": {}
      },
      "source": [
        "!wget https://storage.googleapis.com/nicksdemobucket/sunspots.csv"
      ],
      "execution_count": 0,
      "outputs": []
    },
    {
      "cell_type": "code",
      "metadata": {
        "id": "iDYRoqYvvlk3",
        "colab_type": "code",
        "colab": {}
      },
      "source": [
        "!wget https://storage.googleapis.com/nicksdemobucket/temps.csv"
      ],
      "execution_count": 0,
      "outputs": []
    },
    {
      "cell_type": "code",
      "metadata": {
        "id": "hoSuAfJzdVx4",
        "colab_type": "code",
        "colab": {}
      },
      "source": [
        "import pandas as pd\n",
        "from pandas.tseries.offsets import MonthEnd\n",
        "\n",
        "import matplotlib.pyplot as plt"
      ],
      "execution_count": 0,
      "outputs": []
    },
    {
      "cell_type": "code",
      "metadata": {
        "id": "a741n_godXHi",
        "colab_type": "code",
        "colab": {}
      },
      "source": [
        "df = pd.read_csv('retail.csv', skipfooter=9)\n",
        "df['Unadjusted'] = df['Unadjusted'].astype(float)\n",
        "df.head()"
      ],
      "execution_count": 0,
      "outputs": []
    },
    {
      "cell_type": "code",
      "metadata": {
        "id": "hDO_Q4zvdvbo",
        "colab_type": "code",
        "colab": {}
      },
      "source": [
        "df.plot()\n"
      ],
      "execution_count": 0,
      "outputs": []
    }
  ]
}